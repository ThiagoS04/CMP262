{
 "cells": [
  {
   "cell_type": "markdown",
   "metadata": {},
   "source": [
    "This program scrapes data from boxofficemojo.com, puts it into a dataframe and cleans the dataframe to answer these questions:\n",
    "\n",
    "1. What is the top-grossing movie in each season per year?\n",
    "\n",
    "2. What is the top-grossing domestic movie for the whole year, per year?\n",
    "\n",
    "3. Wha is the top-grossing movie of all time?\n",
    "\n",
    "4. What weekday do people watch the most movies this year?\n",
    "\n",
    "5. What about during quarantine?\n",
    "\n",
    "6. Which season do people watch the most movies?\n",
    "\n",
    "7. Which holiday do the most people watch movies?"
   ]
  },
  {
   "cell_type": "code",
   "execution_count": 1,
   "metadata": {},
   "outputs": [],
   "source": [
    "## Imports\n",
    "import matplotlib.pyplot as plt\n",
    "import seaborn as sns\n",
    "import pandas as pd\n",
    "import numpy as np\n",
    "from bs4 import BeautifulSoup\n",
    "import requests\n",
    "from IPython.display import display"
   ]
  },
  {
   "cell_type": "code",
   "execution_count": 8,
   "metadata": {},
   "outputs": [],
   "source": [
    "## Main function\n",
    "def main():\n",
    "\n",
    "    ## Create dataframe\n",
    "    #Information    Year    Movie    Cummulative Gross    Movies    Released    Average Gross\n",
    "    #               Movie 1\n",
    "    #               Movie 2\n",
    "    # Winter        Movie 3\n",
    "    #\n",
    "    #               Movie 1\n",
    "    #               Movie 2\n",
    "    # Spring        Movie 3\n",
    "    #etc...\n",
    "\n",
    "    # Create dataframe\n",
    "    complete_df = pd.DataFrame(columns = ['Season', 'Year', 'Movie', 'Cummulative Gross', 'Releases', 'Average Gross'])\n",
    "\n",
    "    #df = get_seasonal_data()\n",
    "    complete_df.head(10)\n",
    "    #df.head(10)"
   ]
  },
  {
   "cell_type": "code",
   "execution_count": 3,
   "metadata": {},
   "outputs": [],
   "source": [
    "## Method to get soup\n",
    "def get_soup(url):\n",
    "\n",
    "    # Get response\n",
    "    response = requests.get(url)\n",
    "\n",
    "    # Check response\n",
    "    if response.status_code == 200:\n",
    "\n",
    "        # Get soup\n",
    "        soup = BeautifulSoup(response.content, \"html.parser\")\n",
    "        return soup\n",
    "    \n",
    "    else:\n",
    "\n",
    "        # Print error\n",
    "        print(\"Error: Response code\", response.status_code)\n",
    "        return None"
   ]
  },
  {
   "cell_type": "code",
   "execution_count": 11,
   "metadata": {},
   "outputs": [],
   "source": [
    "## Method to get seasonal data\n",
    "def get_seasonal_data():\n",
    "\n",
    "    # Create list of seasons and seasonal dataframe\n",
    "    seasons = [\"winter\", \"spring\", \"summer\", \"fall\"]\n",
    "    seasonal_df = pd.DataFrame(columns=[\"Season\", \"Year\", \"Movie\", \"Cummulative Gross\", \"Released\", \"Average Gross\"])\n",
    "\n",
    "    # Loop through seasons to get soup from each season\n",
    "    for season in seasons:\n",
    "\n",
    "        # Create list of desired data for dataframe\n",
    "        years = []\n",
    "        money = []                  # Money on website has the same class for all three types of money, so this list holds everything  \n",
    "        cummulativeGross = []\n",
    "        releases = []\n",
    "        averageGross = []\n",
    "        movies = []\n",
    "\n",
    "        # Base url\n",
    "        url = \"https://www.boxofficemojo.com/season/\" + season + \"/?grossesOption=calendarGrosses\"\n",
    "\n",
    "        # Get soup\n",
    "        soup = get_soup(url)\n",
    "\n",
    "        # Get data if soup exists\n",
    "        if soup != None:\n",
    "\n",
    "            # Year\n",
    "            yearElements = soup.find_all(\"td\", class_=\"a-text-left mojo-header-column mojo-truncate mojo-field-type-year mojo-sort-column\")\n",
    "            years = [element.getText() for element in yearElements]\n",
    "\n",
    "            # Cumulative Gross\n",
    "            moneyElements = soup.find_all(\"td\", class_=\"a-text-right mojo-field-type-money\")\n",
    "            money = [element.getText() for element in moneyElements]\n",
    "            cummulativeGross = money[0::3]   # Every third element is the cumulative gross, second and third are average and top release gross\n",
    "\n",
    "            # Releases\n",
    "            releasesElements = soup.find_all(\"td\", class_=\"a-text-right mojo-field-type-positive_integer\")\n",
    "            releases = [element.getText() for element in releasesElements]\n",
    "\n",
    "            # Average Gross\n",
    "            averageGross = money[1::3]      # Every second of three element is the average gross, first and third are cumulative and top release gross\n",
    "\n",
    "            # Movies\n",
    "            moviesElements = soup.find_all(\"td\", class_=\"a-text-left mojo-field-type-release mojo-cell-wide\")\n",
    "            movies = [element.getText() for element in moviesElements]\n",
    "\n",
    "        # Add data to dataframe\n",
    "        for year in years:\n",
    "            seasonal_df.loc[len(seasonal_df)] = [season.capitalize(), year, movies[years.index(year)], cummulativeGross[years.index(year)], releases[years.index(year)], releases[years.index(year)], averageGross[years.index(year)]]\n",
    "\n",
    "        # Combine seasons column\n",
    "        seasonal_df = seasonal_df.groupby(seasonal_df[\"Season\"].replace(\"\", np.nan).ffill()).agg({\"Year\" : '<br>'.join, \"Movie\" : '<br>'.join, \"Cummulative Gross\" : '<br>'.join, \"Releases\" : '<br>'.join, \"Average Gross\" : '<br>'.join}).reset_index().dropna(subset=[\"Season\"])\n",
    "\n",
    "    # Return dataframe\n",
    "    return seasonal_df"
   ]
  },
  {
   "cell_type": "code",
   "execution_count": 10,
   "metadata": {
    "scrolled": true
   },
   "outputs": [],
   "source": [
    "## Run main\n",
    "if __name__ == \"__main__\":\n",
    "    main() "
   ]
  },
  {
   "cell_type": "code",
   "execution_count": null,
   "metadata": {},
   "outputs": [],
   "source": [
    "print(get)"
   ]
  },
  {
   "cell_type": "code",
   "execution_count": null,
   "metadata": {},
   "outputs": [],
   "source": []
  }
 ],
 "metadata": {
  "kernelspec": {
   "display_name": "Python 3 (ipykernel)",
   "language": "python",
   "name": "python3"
  },
  "language_info": {
   "codemirror_mode": {
    "name": "ipython",
    "version": 3
   },
   "file_extension": ".py",
   "mimetype": "text/x-python",
   "name": "python",
   "nbconvert_exporter": "python",
   "pygments_lexer": "ipython3",
   "version": "3.11.4"
  }
 },
 "nbformat": 4,
 "nbformat_minor": 2
}
